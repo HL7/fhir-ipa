{
 "cells": [
  {
   "attachments": {},
   "cell_type": "markdown",
   "metadata": {},
   "source": [
    "## Convert folder of yaml files to json using a bash one liner"
   ]
  },
  {
   "cell_type": "code",
   "execution_count": 1,
   "metadata": {},
   "outputs": [
    {
     "name": "stdout",
     "output_type": "stream",
     "text": [
      "/Users/ehaas/Documents/FHIR/fhir-ipa\n",
      "========================================================================\n",
      "convert all json files in input/examples-yaml directory to yaml in input/examples/json files\n",
      "Python 3.7 and PyYAML, json and sys modules are required\n",
      "example_yaml = input/examples-yaml/AllergyIntolerance-AllIntExample1.yaml\n",
      "example_json = input/examples/AllergyIntolerance-AllIntExample1.json\n",
      "example_yaml = input/examples-yaml/AllergyIntolerance-NKAExample.yaml\n",
      "example_json = input/examples/AllergyIntolerance-NKAExample.json\n",
      "example_yaml = input/examples-yaml/Condition-EncounterExample1.yaml\n",
      "example_json = input/examples/Condition-EncounterExample1.json\n",
      "example_yaml = input/examples-yaml/Condition-ProblemExample1.yaml\n",
      "example_json = input/examples/Condition-ProblemExample1.json\n",
      "example_yaml = input/examples-yaml/DocumentReference-USClinicalNoteExample1.yaml\n",
      "example_json = input/examples/DocumentReference-USClinicalNoteExample1.json\n",
      "example_yaml = input/examples-yaml/Immunization-ImmExample1.yaml\n",
      "example_json = input/examples/Immunization-ImmExample1.json\n",
      "example_yaml = input/examples-yaml/Medication-MedExample1.yaml\n",
      "example_json = input/examples/Medication-MedExample1.json\n",
      "example_yaml = input/examples-yaml/MedicationRequest-MedRecExample1.yaml\n",
      "example_json = input/examples/MedicationRequest-MedRecExample1.json\n",
      "example_yaml = input/examples-yaml/MedicationStatement-MedStatementExample1.yaml\n",
      "example_json = input/examples/MedicationStatement-MedStatementExample1.json\n",
      "example_yaml = input/examples-yaml/Observation-LabExample1.yaml\n",
      "example_json = input/examples/Observation-LabExample1.json\n",
      "example_yaml = input/examples-yaml/Observation-SmokingExample1.yaml\n",
      "example_json = input/examples/Observation-SmokingExample1.json\n",
      "example_yaml = input/examples-yaml/Observation-VitalSignsExample1.yaml\n",
      "example_json = input/examples/Observation-VitalSignsExample1.json\n",
      "example_yaml = input/examples-yaml/Patient-PatientExample1.yaml\n",
      "example_json = input/examples/Patient-PatientExample1.json\n",
      "example_yaml = input/examples-yaml/Practitioner-PractitionerExample1.yaml\n",
      "example_json = input/examples/Practitioner-PractitionerExample1.json\n",
      "example_yaml = input/examples-yaml/PractitionerRole-PractitionerRoleExample1.yaml\n",
      "example_json = input/examples/PractitionerRole-PractitionerRoleExample1.json\n",
      "=================================================================\n"
     ]
    }
   ],
   "source": [
    "%%bash\n",
    "pwd\n",
    "echo \"========================================================================\"\n",
    "echo \"convert all json files in input/examples-yaml directory to yaml in input/examples/json files\"\n",
    "echo \"Python 3.7 and PyYAML, json and sys modules are required\"\n",
    "  for example_yaml in input/examples-yaml/*.yaml\n",
    "    do\n",
    "    echo \"example_yaml = $example_yaml\"\n",
    "    example_json=input/examples/$(basename $example_yaml)\n",
    "    example_json=${example_json%.*}.json\n",
    "    python3.7 -c 'import sys, yaml, json, datetime; json.dump(yaml.full_load(sys.stdin), sys.stdout, indent=4, default = lambda self:(self.isoformat() if isinstance(self, (datetime.datetime, datetime.date)) else f\"YAML to JSON for {self} not serializable\"))' < $example_yaml > $example_json\n",
    "    echo \"example_json = $example_json\"\n",
    "    done\n",
    "  echo \"=================================================================\"\n"
   ]
  },
  {
   "cell_type": "code",
   "execution_count": null,
   "metadata": {
    "vscode": {
     "languageId": "shellscript"
    }
   },
   "outputs": [],
   "source": []
  }
 ],
 "metadata": {
  "kernelspec": {
   "display_name": "jupyter",
   "language": "python",
   "name": "python3"
  },
  "language_info": {
   "codemirror_mode": {
    "name": "ipython",
    "version": 3
   },
   "file_extension": ".py",
   "mimetype": "text/x-python",
   "name": "python",
   "nbconvert_exporter": "python",
   "pygments_lexer": "ipython3",
   "version": "3.10.2"
  },
  "orig_nbformat": 4,
  "vscode": {
   "interpreter": {
    "hash": "18672f2fb81dcbb023a0ac48a86c775a19488782369d96ffbd3382a22fd285cf"
   }
  }
 },
 "nbformat": 4,
 "nbformat_minor": 2
}
