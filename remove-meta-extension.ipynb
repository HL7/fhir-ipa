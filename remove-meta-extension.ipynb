{
 "cells": [
  {
   "attachments": {},
   "cell_type": "markdown",
   "metadata": {},
   "source": [
    "## Remove meta.extensions from examples using a bash one - liner"
   ]
  },
  {
   "cell_type": "code",
   "execution_count": 1,
   "metadata": {},
   "outputs": [
    {
     "name": "stdout",
     "output_type": "stream",
     "text": [
      "=================================================================\n",
      "===remove the meta extension element from all the examples===\n",
      "=================================================================\n",
      "======== example folder is ./input/examples ===========\n"
     ]
    }
   ],
   "source": [
    "%%bash    \n",
    "echo \"=================================================================\"\n",
    "    echo \"===remove the meta extension element from all the examples===\"\n",
    "    echo \"=================================================================\"\n",
    "    examples=./input/examples\n",
    "    echo \"======== example folder is $examples ===========\"\n",
    "    tmp=$(mktemp -d -d ./input/_examples)\n",
    "    # echo \"========= tmp is $tmp ===========\"\n",
    "    for file in $examples/*.json\n",
    "      do\n",
    "        # echo \"file is $file\"\n",
    "        # echo \"basename is $(basename $file)\"\n",
    "        jq 'del(.meta.extension)' < $file > $tmp/$(basename $file)\n",
    "      done\n",
    "    mv -f $tmp/*.json $examples\n",
    "    rm -rf $tmp"
   ]
  }
 ],
 "metadata": {
  "kernelspec": {
   "display_name": "Python 3",
   "language": "python",
   "name": "python3"
  },
  "language_info": {
   "codemirror_mode": {
    "name": "ipython",
    "version": 3
   },
   "file_extension": ".py",
   "mimetype": "text/x-python",
   "name": "python",
   "nbconvert_exporter": "python",
   "pygments_lexer": "ipython3",
   "version": "3.10.2"
  },
  "orig_nbformat": 4,
  "vscode": {
   "interpreter": {
    "hash": "bb8ac4d7b3820c0aa90a30c1b759ca2e95fae5fe8e398fc22d29664b70d4e4bb"
   }
  }
 },
 "nbformat": 4,
 "nbformat_minor": 2
}
